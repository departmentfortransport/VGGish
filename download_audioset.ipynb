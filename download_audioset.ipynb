{
 "cells": [
  {
   "cell_type": "code",
   "execution_count": 24,
   "metadata": {},
   "outputs": [],
   "source": [
    "# Path to ffmpeg\n",
    "ffmpeg_path = '/usr/local/bin/ffmpeg'\n",
    "videos_path = 'data/videos/'\n",
    "audio_path = 'data/audio/'  # now defined dynamically\n",
    "flac_path = 'data/flac/'\n",
    "\n",
    "%matplotlib inline\n",
    "import sys\n",
    "import os.path\n",
    "# Make sure ffmpeg is on the path so sk-video can find it\n",
    "sys.path.append(os.path.dirname(ffmpeg_path))\n",
    "import skvideo.io\n",
    "import cv2\n",
    "import matplotlib.pyplot as plt\n",
    "import numpy as np\n",
    "import pafy\n",
    "import soundfile as sf\n",
    "import subprocess as sp\n",
    "from IPython.display import Video"
   ]
  },
  {
   "cell_type": "code",
   "execution_count": 25,
   "metadata": {},
   "outputs": [],
   "source": [
    "# Set output settings\n",
    "audio_codec = 'flac'\n",
    "audio_container = 'flac'\n",
    "video_codec = 'h264'\n",
    "video_container = 'mp4'"
   ]
  },
  {
   "cell_type": "markdown",
   "metadata": {},
   "source": [
    "### Sorting out the segments csv"
   ]
  },
  {
   "cell_type": "code",
   "execution_count": 26,
   "metadata": {},
   "outputs": [],
   "source": [
    "dataset = 'data/balanced_train_segments.csv'"
   ]
  },
  {
   "cell_type": "code",
   "execution_count": 27,
   "metadata": {},
   "outputs": [],
   "source": [
    "car_passing_by = '/t/dd00134'"
   ]
  },
  {
   "cell_type": "code",
   "execution_count": 28,
   "metadata": {},
   "outputs": [],
   "source": [
    "outside = '/t/dd00128'"
   ]
  },
  {
   "cell_type": "code",
   "execution_count": 29,
   "metadata": {},
   "outputs": [],
   "source": [
    "car = '/m/0k4j'"
   ]
  },
  {
   "cell_type": "code",
   "execution_count": 30,
   "metadata": {},
   "outputs": [],
   "source": [
    "outside_rural = '/t/dd00129'"
   ]
  },
  {
   "cell_type": "code",
   "execution_count": null,
   "metadata": {},
   "outputs": [],
   "source": []
  },
  {
   "cell_type": "code",
   "execution_count": 31,
   "metadata": {},
   "outputs": [],
   "source": [
    "# '/t/dd00128',\"Outside, urban or manmade\" # that will actually include engine sound"
   ]
  },
  {
   "cell_type": "code",
   "execution_count": 32,
   "metadata": {},
   "outputs": [],
   "source": [
    "# 327,/m/0btp2,\"Traffic noise, roadway noise\" # that will actually include engine sound"
   ]
  },
  {
   "cell_type": "code",
   "execution_count": 33,
   "metadata": {},
   "outputs": [],
   "source": [
    "# 348,/t/dd00066,\"Medium engine (mid frequency)\"\n",
    "# 349,/t/dd00067,\"Heavy engine (low frequency)\"\n",
    "# 350,/m/01h82_,\"Engine knocking\"\n",
    "# 351,/t/dd00130,\"Engine starting\"\n",
    "# 352,/m/07pb8fc,\"Idling\"\n",
    "# 353,/m/07q2z82,\"Accelerating, revving, vroom\"\n",
    "# 343,/m/02mk9,\"Engine\"\n",
    "# 315,/m/0ltv,\"Race car, auto racing\"\n",
    "# 316,/m/07r04,\"Truck\"\n",
    "# 312,/m/07rknqz,\"Skidding\"\n",
    "# 313,/m/0h9mv,\"Tire squeal\"\n",
    "# 306,/m/012f08,\"Motor vehicle (road)\"\n",
    "# 307,/m/0k4j,\"Car\""
   ]
  },
  {
   "cell_type": "code",
   "execution_count": 34,
   "metadata": {},
   "outputs": [],
   "source": [
    "def get_video_list(label):\n",
    "    with open(dataset) as f:\n",
    "        lines = f.readlines()\n",
    "    dl_list = [line.strip().split(', ') for line in lines[3:]]\n",
    "    dl_list = [i for i in dl_list if label in i[-1]]\n",
    "    print('Videos available for this label: ', len(dl_list))\n",
    "    print(\"\")\n",
    "    return dl_list"
   ]
  },
  {
   "cell_type": "code",
   "execution_count": 35,
   "metadata": {},
   "outputs": [],
   "source": [
    "# _ = get_video_list(outside_rural)"
   ]
  },
  {
   "cell_type": "code",
   "execution_count": 36,
   "metadata": {},
   "outputs": [],
   "source": [
    "# _ = get_video_list(car)"
   ]
  },
  {
   "cell_type": "markdown",
   "metadata": {},
   "source": [
    "### We can load the AudioSet training set and grab a video to download:"
   ]
  },
  {
   "cell_type": "code",
   "execution_count": 37,
   "metadata": {},
   "outputs": [],
   "source": [
    "# Select a YouTube video from the training set\n",
    "def select_video(video_info):\n",
    "    \n",
    "    ytid, ts_start, ts_end, labels = video_info\n",
    "    ts_start, ts_end = float(ts_start), float(ts_end)\n",
    "    duration = ts_end - ts_start\n",
    "\n",
    "    print(\"YouTube ID: \" + ytid)\n",
    "    print(\"Trim Window: ({}, {})\".format(ts_start, ts_end))\n",
    "    \n",
    "    return ytid, ts_start, ts_end, duration"
   ]
  },
  {
   "cell_type": "markdown",
   "metadata": {},
   "source": [
    "### After getting the YouTube ID and trim window for the video we want, we can use `pafy` to get the download URL to the best quality video and audio:"
   ]
  },
  {
   "cell_type": "code",
   "execution_count": 38,
   "metadata": {
    "scrolled": true
   },
   "outputs": [],
   "source": [
    "# Get the URL to the video page\n",
    "\n",
    "def get_urls(ytid):\n",
    "    video_page_url = 'https://www.youtube.com/watch?v={}'.format(ytid)\n",
    "\n",
    "    # Get the direct URLs to the videos with best audio and with best video (with audio)\n",
    "    video = pafy.new(video_page_url)\n",
    "\n",
    "    best_video = video.getbestvideo()\n",
    "    best_video_url = best_video.url\n",
    "    # print(\"Video URL: \" + best_video_url)\n",
    "\n",
    "    best_audio = video.getbestaudio()\n",
    "    best_audio_url = best_audio.url\n",
    "    # print(\"Audio URL: \" + best_audio_url)\n",
    "    \n",
    "    return best_video_url, best_audio_url"
   ]
  },
  {
   "cell_type": "code",
   "execution_count": 39,
   "metadata": {},
   "outputs": [],
   "source": [
    "# Get output video and audio filepaths\n",
    "\n",
    "def get_paths(ytid, ts_start, ts_end):\n",
    "    \n",
    "    basename_fmt = '{}_{}_{}'.format(ytid, int(ts_start*1000), int(ts_end*1000))\n",
    "    video_filepath = os.path.join(videos_path, basename_fmt + '.' + video_container)\n",
    "    flac_filepath = os.path.join(flac_path, basename_fmt + '.' + audio_container)\n",
    "    audio_filepath = os.path.join(audio_path, basename_fmt + '.' + 'wav')\n",
    "    \n",
    "    return flac_filepath, audio_filepath"
   ]
  },
  {
   "cell_type": "markdown",
   "metadata": {},
   "source": [
    "### We can then use `ffmpeg` to download and transcode to the format desired:\n",
    "* To do: remove if file already exists -- this is the -n option in ffmpeg\n",
    "* To do: can we go directly to wav with ffmeg"
   ]
  },
  {
   "cell_type": "code",
   "execution_count": 40,
   "metadata": {},
   "outputs": [],
   "source": [
    "# Download the video\n",
    "def download_video(ffmpeg_path, ts_start, best_video_url, duration, video_container, video_codec, video_filepath):\n",
    "    \n",
    "    video_dl_args = [ffmpeg_path, '-n',\n",
    "        '-ss', str(ts_start),   # The beginning of the trim window\n",
    "        '-i', best_video_url,   # Specify the input video URL\n",
    "        '-t', str(duration),    # Specify the duration of the output\n",
    "        '-f', video_container,  # Specify the format (container) of the video\n",
    "        '-framerate', '30',     # Specify the framerate\n",
    "        '-vcodec', video_codec, # Specify the output encoding\n",
    "        video_filepath]\n",
    "\n",
    "    proc = sp.Popen(video_dl_args, stdout=sp.PIPE, stderr=sp.PIPE)\n",
    "    stdout, stderr = proc.communicate()\n",
    "    if proc.returncode != 0:\n",
    "        print(stderr)\n",
    "    else:\n",
    "        print(\"Downloaded video to \" + video_filepath)"
   ]
  },
  {
   "cell_type": "code",
   "execution_count": 41,
   "metadata": {
    "scrolled": true
   },
   "outputs": [],
   "source": [
    "# Download the audio in flac\n",
    "def download_audio(ffmpeg_path, ts_start, best_audio_url, duration, audio_container, audio_codec, flac_filepath):\n",
    "    \n",
    "    audio_dl_args = [ffmpeg_path, '-n',\n",
    "        '-ss', str(ts_start),    # The beginning of the trim window\n",
    "        '-i', best_audio_url,    # Specify the input video URL\n",
    "        '-t', str(duration),     # Specify the duration of the output\n",
    "        '-f', audio_container, \n",
    "        '-vn',                   # Suppress the video stream\n",
    "        '-ac', '2',              # Set the number of channels\n",
    "        '-sample_fmt', 's16',    # Specify the bit depth\n",
    "        '-acodec', audio_codec,  # Specify the output encoding\n",
    "        '-ar', '44100',          # Specify the audio sample rate\n",
    "        flac_filepath]\n",
    "\n",
    "    proc = sp.Popen(audio_dl_args, stdout=sp.PIPE, stderr=sp.PIPE)\n",
    "    stdout, stderr = proc.communicate()\n",
    "    if proc.returncode != 0:\n",
    "        print(stderr)\n",
    "    else:\n",
    "        print(\"Downloaded audio to \" + flac_filepath)"
   ]
  },
  {
   "cell_type": "code",
   "execution_count": 42,
   "metadata": {},
   "outputs": [],
   "source": [
    "# # Download the video (higher quality) separately and merge with the audio\n",
    "# solo_video_filepath = './solo_' + video_filepath[2:]\n",
    "# video_dl_args = [ffmpeg_path, '-n',\n",
    "#     '-ss', str(ts_start),   # The beginning of the trim window\n",
    "#     '-i', best_video_url,   # Specify the input video URL\n",
    "#     '-t', str(duration),    # Specify the duration of the output\n",
    "#     '-f', 'mp4',            # Specify the format (container) of the video\n",
    "#     '-framerate', '30',     # Specify the framerate\n",
    "#     '-vcodec', 'h264',      # Specify the output encoding\n",
    "#     '-crf', '0',            # Lossless\n",
    "#     '-preset', 'medium',    # Use the medium compression strategy, which\n",
    "#                             # offers a balance between speed and compression rate\n",
    "#     solo_video_filepath]\n",
    "\n",
    "# proc = sp.Popen(video_dl_args, stdout=sp.PIPE, stderr=sp.PIPE)\n",
    "# stdout, stderr = proc.communicate()\n",
    "# if proc.returncode != 0:\n",
    "#     print(stderr)\n",
    "# else:\n",
    "#     print(\"Downloaded video to \" + video_filepath)\n",
    "    \n",
    "# merge_video_filepath = './merge_' + video_filepath[2:]\n",
    "# merge_video_dl_args = [ffmpeg_path, '-n',\n",
    "#     '-i', video_filepath,      # Specify the high quality video path\n",
    "#     '-i', audio_filepath,      # specify the high quality audio path\n",
    "#     '-f', 'mp4',               # Specify the format (container) of the video\n",
    "#     '-framerate', '30',        # Specify the video framerate\n",
    "#     '-vcodec', 'h264',         # Specify the output video encoding\n",
    "#     '-acodec', 'aac',          # Specify the output audio encoding\n",
    "#     '-ac', '2',                # Set the number of channels\n",
    "#     '-ar', '44100',            # Specify the audio sample rate\n",
    "#     '-strict', 'experimental', # Needed for merging streams\n",
    "#     merge_video_filepath]\n",
    "\n",
    "# proc = sp.Popen(merge_video_dl_args, stdout=sp.PIPE, stderr=sp.PIPE)\n",
    "# stdout, stderr = proc.communicate()\n",
    "# if proc.returncode != 0:\n",
    "#     print(stderr)\n",
    "# else:\n",
    "#     print(\"Merged video at \" + merge_video_filepath)"
   ]
  },
  {
   "cell_type": "code",
   "execution_count": 43,
   "metadata": {},
   "outputs": [],
   "source": [
    "# Convert flac to wav\n",
    "def conv_wav(ffmpeg_path, flac_filepath, audio_filepath):\n",
    "    conv_args = [ffmpeg_path, '-n',\n",
    "        '-i', flac_filepath,   # Specify the input flac filepath\n",
    "        audio_filepath]\n",
    "\n",
    "    proc = sp.Popen(conv_args, stdout=sp.PIPE, stderr=sp.PIPE)\n",
    "    stdout, stderr = proc.communicate()\n",
    "    if proc.returncode != 0:\n",
    "        print(stderr)\n",
    "    else:\n",
    "        print(\"Converted flac to wav, saved to \" + audio_filepath)"
   ]
  },
  {
   "cell_type": "code",
   "execution_count": 44,
   "metadata": {},
   "outputs": [],
   "source": [
    "def get_audio_file(video_info):\n",
    "    '''\n",
    "    Putting all the functions together \n",
    "    '''\n",
    "    \n",
    "    ytid, ts_start, ts_end, duration = select_video(video_info)\n",
    "    best_video_url, best_audio_url = get_urls(ytid)\n",
    "    flac_filepath, audio_filepath = get_paths(ytid, ts_start, ts_end)\n",
    "    download_audio(ffmpeg_path, ts_start, best_audio_url, duration, audio_container, audio_codec, flac_filepath)\n",
    "    conv_wav(ffmpeg_path, flac_filepath, audio_filepath)\n",
    "    print(\"\")"
   ]
  },
  {
   "cell_type": "code",
   "execution_count": 49,
   "metadata": {},
   "outputs": [],
   "source": [
    "def download_all_audio(label):\n",
    "    '''\n",
    "    Looping the get_audio_file function throughah given list of segments to download audio files.\n",
    "    Requires a folder to be created of the same name as label in 'data/audio/'\n",
    "    '''\n",
    "    \n",
    "#     audio_path = 'data/audio/' + label  # folder currently needs to be created beforehand\n",
    "#     print(audio_path)\n",
    "    video_list = get_video_list(label)\n",
    "    errors = 0\n",
    "    for x in video_list:\n",
    "        try:\n",
    "            get_audio_file(x)\n",
    "        except OSError as err:\n",
    "            errors += 1\n",
    "            print(\"OS error: {}\".format(err))\n",
    "            continue\n",
    "    print('There were {} errors'.format(errors))\n",
    "    \n",
    "    #TODO: empty flac folder contents\n",
    "        "
   ]
  },
  {
   "cell_type": "code",
   "execution_count": 51,
   "metadata": {},
   "outputs": [],
   "source": [
    "download_all_audio(car)"
   ]
  },
  {
   "cell_type": "code",
   "execution_count": 52,
   "metadata": {},
   "outputs": [],
   "source": [
    "download_all_audio(outside_rural)"
   ]
  },
  {
   "cell_type": "code",
   "execution_count": null,
   "metadata": {},
   "outputs": [],
   "source": []
  }
 ],
 "metadata": {
  "kernelspec": {
   "display_name": "vggish",
   "language": "python",
   "name": "vggish"
  },
  "language_info": {
   "codemirror_mode": {
    "name": "ipython",
    "version": 3
   },
   "file_extension": ".py",
   "mimetype": "text/x-python",
   "name": "python",
   "nbconvert_exporter": "python",
   "pygments_lexer": "ipython3",
   "version": "3.6.0"
  }
 },
 "nbformat": 4,
 "nbformat_minor": 2
}
