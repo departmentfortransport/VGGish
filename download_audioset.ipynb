{
 "cells": [
  {
   "cell_type": "markdown",
   "metadata": {},
   "source": [
    "# Script to download audioset\n",
    "Based on https://github.com/marl/audiosetdl/blob/master/notebooks/download.ipynb"
   ]
  },
  {
   "cell_type": "code",
   "execution_count": 8,
   "metadata": {},
   "outputs": [],
   "source": [
    "# Path to ffmpeg\n",
    "ffmpeg_path = '/usr/local/bin/ffmpeg'\n",
    "\n",
    "# These need to exist\n",
    "videos_path = 'data/videos/'\n",
    "audio_path = 'data/audio/'\n",
    "flac_path = audio_path + 'flac/'\n",
    "\n",
    "%matplotlib inline\n",
    "import sys\n",
    "import os.path\n",
    "# Make sure ffmpeg is on the path so sk-video can find it\n",
    "sys.path.append(os.path.dirname(ffmpeg_path))\n",
    "import skvideo.io\n",
    "import cv2\n",
    "import matplotlib.pyplot as plt\n",
    "import numpy as np\n",
    "import pafy\n",
    "import soundfile as sf\n",
    "import subprocess as sp\n",
    "from IPython.display import Video"
   ]
  },
  {
   "cell_type": "code",
   "execution_count": 9,
   "metadata": {},
   "outputs": [],
   "source": [
    "# Set output settings\n",
    "audio_codec = 'flac'\n",
    "audio_container = 'flac'\n",
    "video_codec = 'h264'\n",
    "video_container = 'mp4'"
   ]
  },
  {
   "cell_type": "markdown",
   "metadata": {},
   "source": [
    "### Sorting out what data to download based on segments csv"
   ]
  },
  {
   "cell_type": "code",
   "execution_count": 10,
   "metadata": {},
   "outputs": [],
   "source": [
    "# Define here what labels to download\n",
    "\n",
    "labels_dict = {'car_passing_by': '/t/dd00134',\n",
    "#                'outside_urban': '/t/dd00128', # this will actually include engine sound so might be confusing\n",
    "#                'car': '/m/0k4j',  # general car sounds\n",
    "               'outside_rural': '/t/dd00129'\n",
    "              }"
   ]
  },
  {
   "cell_type": "code",
   "execution_count": 11,
   "metadata": {},
   "outputs": [],
   "source": [
    "# Other possible sound labels:\n",
    "\n",
    "# /t/dd00066,\"Medium engine (mid frequency)\"\n",
    "# /t/dd00067,\"Heavy engine (low frequency)\"\n",
    "# /m/01h82_,\"Engine knocking\"\n",
    "# /t/dd00130,\"Engine starting\"\n",
    "# /m/07pb8fc,\"Idling\"\n",
    "# /m/07q2z82,\"Accelerating, revving, vroom\"\n",
    "# /m/02mk9,\"Engine\"\n",
    "# /m/0ltv,\"Race car, auto racing\"\n",
    "# /m/07r04,\"Truck\"\n",
    "# /m/07rknqz,\"Skidding\"\n",
    "# /m/0h9mv,\"Tire squeal\"\n",
    "# /m/012f08,\"Motor vehicle (road)\"\n",
    "# /m/0k4j,\"Car\""
   ]
  },
  {
   "cell_type": "code",
   "execution_count": 12,
   "metadata": {},
   "outputs": [],
   "source": [
    "def get_video_list(code, dataset):\n",
    "    '''\n",
    "    Get the list of video info for all videos for a given label\n",
    "    '''\n",
    "    \n",
    "    dataset_dict = {'train': 'data/balanced_train_segments.csv',\n",
    "                    'eval': 'data/eval_segments.csv',\n",
    "                    'unbal': 'data/unbalanced_train_segments.csv'}\n",
    "    \n",
    "    with open(dataset_dict.get(dataset)) as f:\n",
    "        lines = f.readlines()\n",
    "    dl_list = [line.strip().split(', ') for line in lines[3:]]\n",
    "    dl_list = [i for i in dl_list if code in i[-1]]\n",
    "    print('Videos available for this label: ', len(dl_list))\n",
    "    print(\"\")\n",
    "    return dl_list"
   ]
  },
  {
   "cell_type": "code",
   "execution_count": 13,
   "metadata": {},
   "outputs": [
    {
     "name": "stdout",
     "output_type": "stream",
     "text": [
      "Videos available for this label:  35291\n",
      "\n"
     ]
    }
   ],
   "source": [
    "_ = get_video_list(labels_dict.get('outside_rural'), 'unbal')"
   ]
  },
  {
   "cell_type": "code",
   "execution_count": 1,
   "metadata": {},
   "outputs": [],
   "source": [
    "_ = get_video_list(labels_dict.get('car_passing_by'), 'unbal')"
   ]
  },
  {
   "cell_type": "markdown",
   "metadata": {},
   "source": [
    "### We can load the AudioSet training set and grab a video to download:"
   ]
  },
  {
   "cell_type": "code",
   "execution_count": 16,
   "metadata": {},
   "outputs": [],
   "source": [
    "# Select a YouTube video from the training set\n",
    "def select_video(video_info):\n",
    "    \n",
    "    ytid, ts_start, ts_end, labels = video_info\n",
    "    ts_start, ts_end = float(ts_start), float(ts_end)\n",
    "    duration = ts_end - ts_start\n",
    "\n",
    "    print(\"YouTube ID: \" + ytid)\n",
    "    print(\"Trim Window: ({}, {})\".format(ts_start, ts_end))\n",
    "    \n",
    "    return ytid, ts_start, ts_end, duration"
   ]
  },
  {
   "cell_type": "markdown",
   "metadata": {},
   "source": [
    "### After getting the YouTube ID and trim window for the video we want, we can use `pafy` to get the download URL to the best quality video and audio:"
   ]
  },
  {
   "cell_type": "code",
   "execution_count": 17,
   "metadata": {
    "scrolled": true
   },
   "outputs": [],
   "source": [
    "# Get the URL to the video page\n",
    "\n",
    "def get_urls(ytid):\n",
    "    video_page_url = 'https://www.youtube.com/watch?v={}'.format(ytid)\n",
    "\n",
    "    # Get the direct URLs to the videos with best audio and with best video (with audio)\n",
    "    video = pafy.new(video_page_url)\n",
    "\n",
    "    best_video = video.getbestvideo()\n",
    "    best_video_url = best_video.url\n",
    "    # print(\"Video URL: \" + best_video_url)\n",
    "\n",
    "    best_audio = video.getbestaudio()\n",
    "    best_audio_url = best_audio.url\n",
    "    # print(\"Audio URL: \" + best_audio_url)\n",
    "    \n",
    "    return best_video_url, best_audio_url"
   ]
  },
  {
   "cell_type": "code",
   "execution_count": 18,
   "metadata": {},
   "outputs": [],
   "source": [
    "def make_audio_filepath(audio_path, label, dataset, basename_fmt):\n",
    "    '''\n",
    "    Creates the final audio_filepath in a folder within audio_path corresponding to the label\n",
    "    '''\n",
    "    newpath = audio_path + dataset + '/' + label + '/'\n",
    "    if not os.path.exists(newpath):\n",
    "        os.makedirs(newpath)\n",
    "    audio_filepath = os.path.join(newpath, basename_fmt + '.' + 'wav')\n",
    "    \n",
    "    return audio_filepath"
   ]
  },
  {
   "cell_type": "code",
   "execution_count": 19,
   "metadata": {},
   "outputs": [],
   "source": [
    "def get_paths(ytid, ts_start, ts_end, label, dataset):\n",
    "    '''\n",
    "    Get output video and audio filepaths\n",
    "    '''\n",
    "    \n",
    "    basename_fmt = '{}_{}_{}'.format(ytid, int(ts_start*1000), int(ts_end*1000))\n",
    "    video_filepath = os.path.join(videos_path, basename_fmt + '.' + video_container)\n",
    "    flac_filepath = os.path.join(flac_path, basename_fmt + '.' + audio_container)\n",
    "    audio_filepath = make_audio_filepath(audio_path, label, dataset, basename_fmt)\n",
    "    \n",
    "    return flac_filepath, audio_filepath"
   ]
  },
  {
   "cell_type": "markdown",
   "metadata": {},
   "source": [
    "### We can then use `ffmpeg` to download and transcode to the format desired:\n",
    "Currently replaces files in the directory. Add '-n' option in args to stop "
   ]
  },
  {
   "cell_type": "code",
   "execution_count": 20,
   "metadata": {},
   "outputs": [],
   "source": [
    "# Download the video\n",
    "def download_video(ffmpeg_path, ts_start, best_video_url, duration, video_container, video_codec, video_filepath):\n",
    "    \n",
    "    video_dl_args = [ffmpeg_path,\n",
    "        '-ss', str(ts_start),   # The beginning of the trim window\n",
    "        '-i', best_video_url,   # Specify the input video URL\n",
    "        '-t', str(duration),    # Specify the duration of the output\n",
    "        '-f', video_container,  # Specify the format (container) of the video\n",
    "        '-framerate', '30',     # Specify the framerate\n",
    "        '-vcodec', video_codec, # Specify the output encoding\n",
    "        video_filepath]\n",
    "\n",
    "    proc = sp.Popen(video_dl_args, stdout=sp.PIPE, stderr=sp.PIPE)\n",
    "    stdout, stderr = proc.communicate()\n",
    "    if proc.returncode != 0:\n",
    "        print(stderr)\n",
    "    else:\n",
    "        print(\"Downloaded video to \" + video_filepath)"
   ]
  },
  {
   "cell_type": "code",
   "execution_count": 21,
   "metadata": {
    "scrolled": true
   },
   "outputs": [],
   "source": [
    "# Download the audio in flac\n",
    "def download_audio(ffmpeg_path, ts_start, best_audio_url, duration, audio_container, audio_codec, flac_filepath):\n",
    "    \n",
    "    audio_dl_args = [ffmpeg_path,\n",
    "        '-ss', str(ts_start),    # The beginning of the trim window\n",
    "        '-i', best_audio_url,    # Specify the input video URL\n",
    "        '-t', str(duration),     # Specify the duration of the output\n",
    "        '-f', audio_container, \n",
    "        '-vn',                   # Suppress the video stream\n",
    "        '-ac', '2',              # Set the number of channels\n",
    "        '-sample_fmt', 's16',    # Specify the bit depth\n",
    "        '-acodec', audio_codec,  # Specify the output encoding\n",
    "        '-ar', '44100',          # Specify the audio sample rate\n",
    "        flac_filepath]\n",
    "\n",
    "    proc = sp.Popen(audio_dl_args, stdout=sp.PIPE, stderr=sp.PIPE)\n",
    "    stdout, stderr = proc.communicate()\n",
    "    if proc.returncode != 0:\n",
    "        print(stderr)\n",
    "    else:\n",
    "        print(\"Downloaded audio to \" + flac_filepath)"
   ]
  },
  {
   "cell_type": "code",
   "execution_count": 22,
   "metadata": {},
   "outputs": [],
   "source": [
    "def conv_wav(ffmpeg_path, flac_filepath, audio_filepath):\n",
    "    '''\n",
    "    Convert flac to wav\n",
    "    -y option overwrites files if they exist\n",
    "    '''\n",
    "    conv_args = [ffmpeg_path, '-y',\n",
    "        '-i', flac_filepath,   # Specify the input flac filepath\n",
    "        audio_filepath]\n",
    "\n",
    "    proc = sp.Popen(conv_args, stdout=sp.PIPE, stderr=sp.PIPE)\n",
    "    stdout, stderr = proc.communicate()\n",
    "    if proc.returncode != 0:\n",
    "        print(stderr)\n",
    "    else:\n",
    "        print(\"Converted flac to wav, saved to \" + audio_filepath)"
   ]
  },
  {
   "cell_type": "code",
   "execution_count": 23,
   "metadata": {},
   "outputs": [],
   "source": [
    "def get_audio_file(video_info, label, dataset):\n",
    "    '''\n",
    "    Putting all the functions together \n",
    "    '''\n",
    "    \n",
    "    ytid, ts_start, ts_end, duration = select_video(video_info)\n",
    "    best_video_url, best_audio_url = get_urls(ytid)\n",
    "    flac_filepath, audio_filepath = get_paths(ytid, ts_start, ts_end, label, dataset)\n",
    "    if os.path.isfile(audio_filepath):\n",
    "        print('File already exists')\n",
    "        print(\"\")\n",
    "    else:\n",
    "        download_audio(ffmpeg_path, ts_start, best_audio_url, duration, audio_container, audio_codec, flac_filepath)\n",
    "        conv_wav(ffmpeg_path, flac_filepath, audio_filepath)\n",
    "        print(\"\")"
   ]
  },
  {
   "cell_type": "code",
   "execution_count": 24,
   "metadata": {},
   "outputs": [],
   "source": [
    "def download_all_audio(dataset, labels_dict, sample=None):\n",
    "    '''\n",
    "    Looping the get_audio_file function through a given list of labels to download audio files.\n",
    "    ---\n",
    "    Keywords\n",
    "    - dataset: 'train' or 'eval' depending which part of the audioset to get it from. More can be added.\n",
    "    - labels_dict: pass a dictionary of label codes and a name for it which will \n",
    "                   define the folder name audio files will be saved in\n",
    "    - sample: how many audio files for each label to get. This is useful if we want to keep the dataset balanced.\n",
    "    '''\n",
    "\n",
    "    for label, code in labels_dict.items():\n",
    "        print('Processing label {}'.format(label))\n",
    "        print(\"\")\n",
    "        video_list = get_video_list(code, dataset)\n",
    "        if sample is not None:\n",
    "            video_list = video_list[:sample]\n",
    "        errors = 0\n",
    "        for c, x in enumerate(video_list):\n",
    "            print('Processing video no {}'.format(c+1))\n",
    "            try:\n",
    "                get_audio_file(x, label, dataset)\n",
    "            except (OSError, AttributeError) as err:\n",
    "                errors += 1\n",
    "                print(\"OS error: {}\".format(err))\n",
    "                continue\n",
    "        print('There were {} errors'.format(errors))\n",
    "        print(\"\")\n",
    "        \n",
    "    print('Cleaning flac folder')\n",
    "    for the_file in os.listdir(flac_path):\n",
    "        file_path = os.path.join(flac_path, the_file)\n",
    "        try:\n",
    "            if os.path.isfile(file_path):\n",
    "                os.unlink(file_path)\n",
    "        except Exception as e:\n",
    "            print(e)"
   ]
  },
  {
   "cell_type": "code",
   "execution_count": 2,
   "metadata": {},
   "outputs": [],
   "source": [
    "download_all_audio('unbal', labels_dict, sample=3684)"
   ]
  },
  {
   "cell_type": "code",
   "execution_count": null,
   "metadata": {},
   "outputs": [],
   "source": [
    "download_all_audio('train', labels_dict, sample=60)"
   ]
  },
  {
   "cell_type": "code",
   "execution_count": null,
   "metadata": {},
   "outputs": [],
   "source": [
    "download_all_audio('eval', labels_dict, sample=60)"
   ]
  }
 ],
 "metadata": {
  "kernelspec": {
   "display_name": "vggish",
   "language": "python",
   "name": "vggish"
  },
  "language_info": {
   "codemirror_mode": {
    "name": "ipython",
    "version": 3
   },
   "file_extension": ".py",
   "mimetype": "text/x-python",
   "name": "python",
   "nbconvert_exporter": "python",
   "pygments_lexer": "ipython3",
   "version": "3.6.0"
  }
 },
 "nbformat": 4,
 "nbformat_minor": 2
}
